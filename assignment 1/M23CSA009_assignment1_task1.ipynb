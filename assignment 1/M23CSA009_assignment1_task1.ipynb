{
  "cells": [
    {
      "cell_type": "markdown",
      "metadata": {
        "id": "gSy-fEWqzs59"
      },
      "source": [
        "##Data Loading and Analysis:\n",
        "\n",
        "First I uploaded the data in google drive and then mounted the data to do the analysis"
      ]
    },
    {
      "cell_type": "code",
      "execution_count": null,
      "metadata": {
        "colab": {
          "base_uri": "https://localhost:8080/"
        },
        "id": "L8Hl6RxYnHcH",
        "outputId": "25ae154d-5c63-4f22-bc0e-793ae56402ae"
      },
      "outputs": [
        {
          "output_type": "stream",
          "name": "stdout",
          "text": [
            "Drive already mounted at /content/drive/; to attempt to forcibly remount, call drive.mount(\"/content/drive/\", force_remount=True).\n"
          ]
        }
      ],
      "source": [
        "from google.colab import drive\n",
        "drive.mount('/content/drive/')"
      ]
    },
    {
      "cell_type": "code",
      "execution_count": null,
      "metadata": {
        "colab": {
          "base_uri": "https://localhost:8080/",
          "height": 206
        },
        "id": "UME8e_87owsm",
        "outputId": "f5bdfbf2-6828-4dd9-833e-965a9d222a0b"
      },
      "outputs": [
        {
          "output_type": "execute_result",
          "data": {
            "text/plain": [
              "   Hours Studied  Previous Scores Extracurricular Activities  \\\n",
              "0              7               99                        Yes   \n",
              "1              4               82                         No   \n",
              "2              8               51                        Yes   \n",
              "3              5               52                        Yes   \n",
              "4              7               75                         No   \n",
              "\n",
              "   Duration of Sleep  Sample Question Papers Practiced  Performance  \n",
              "0                  9                                 1           91  \n",
              "1                  4                                 2           65  \n",
              "2                  7                                 2           45  \n",
              "3                  5                                 2           36  \n",
              "4                  8                                 5           66  "
            ],
            "text/html": [
              "\n",
              "  <div id=\"df-0cbc15c5-56b7-4587-aefb-7cdfc6a83126\" class=\"colab-df-container\">\n",
              "    <div>\n",
              "<style scoped>\n",
              "    .dataframe tbody tr th:only-of-type {\n",
              "        vertical-align: middle;\n",
              "    }\n",
              "\n",
              "    .dataframe tbody tr th {\n",
              "        vertical-align: top;\n",
              "    }\n",
              "\n",
              "    .dataframe thead th {\n",
              "        text-align: right;\n",
              "    }\n",
              "</style>\n",
              "<table border=\"1\" class=\"dataframe\">\n",
              "  <thead>\n",
              "    <tr style=\"text-align: right;\">\n",
              "      <th></th>\n",
              "      <th>Hours Studied</th>\n",
              "      <th>Previous Scores</th>\n",
              "      <th>Extracurricular Activities</th>\n",
              "      <th>Duration of Sleep</th>\n",
              "      <th>Sample Question Papers Practiced</th>\n",
              "      <th>Performance</th>\n",
              "    </tr>\n",
              "  </thead>\n",
              "  <tbody>\n",
              "    <tr>\n",
              "      <th>0</th>\n",
              "      <td>7</td>\n",
              "      <td>99</td>\n",
              "      <td>Yes</td>\n",
              "      <td>9</td>\n",
              "      <td>1</td>\n",
              "      <td>91</td>\n",
              "    </tr>\n",
              "    <tr>\n",
              "      <th>1</th>\n",
              "      <td>4</td>\n",
              "      <td>82</td>\n",
              "      <td>No</td>\n",
              "      <td>4</td>\n",
              "      <td>2</td>\n",
              "      <td>65</td>\n",
              "    </tr>\n",
              "    <tr>\n",
              "      <th>2</th>\n",
              "      <td>8</td>\n",
              "      <td>51</td>\n",
              "      <td>Yes</td>\n",
              "      <td>7</td>\n",
              "      <td>2</td>\n",
              "      <td>45</td>\n",
              "    </tr>\n",
              "    <tr>\n",
              "      <th>3</th>\n",
              "      <td>5</td>\n",
              "      <td>52</td>\n",
              "      <td>Yes</td>\n",
              "      <td>5</td>\n",
              "      <td>2</td>\n",
              "      <td>36</td>\n",
              "    </tr>\n",
              "    <tr>\n",
              "      <th>4</th>\n",
              "      <td>7</td>\n",
              "      <td>75</td>\n",
              "      <td>No</td>\n",
              "      <td>8</td>\n",
              "      <td>5</td>\n",
              "      <td>66</td>\n",
              "    </tr>\n",
              "  </tbody>\n",
              "</table>\n",
              "</div>\n",
              "    <div class=\"colab-df-buttons\">\n",
              "\n",
              "  <div class=\"colab-df-container\">\n",
              "    <button class=\"colab-df-convert\" onclick=\"convertToInteractive('df-0cbc15c5-56b7-4587-aefb-7cdfc6a83126')\"\n",
              "            title=\"Convert this dataframe to an interactive table.\"\n",
              "            style=\"display:none;\">\n",
              "\n",
              "  <svg xmlns=\"http://www.w3.org/2000/svg\" height=\"24px\" viewBox=\"0 -960 960 960\">\n",
              "    <path d=\"M120-120v-720h720v720H120Zm60-500h600v-160H180v160Zm220 220h160v-160H400v160Zm0 220h160v-160H400v160ZM180-400h160v-160H180v160Zm440 0h160v-160H620v160ZM180-180h160v-160H180v160Zm440 0h160v-160H620v160Z\"/>\n",
              "  </svg>\n",
              "    </button>\n",
              "\n",
              "  <style>\n",
              "    .colab-df-container {\n",
              "      display:flex;\n",
              "      gap: 12px;\n",
              "    }\n",
              "\n",
              "    .colab-df-convert {\n",
              "      background-color: #E8F0FE;\n",
              "      border: none;\n",
              "      border-radius: 50%;\n",
              "      cursor: pointer;\n",
              "      display: none;\n",
              "      fill: #1967D2;\n",
              "      height: 32px;\n",
              "      padding: 0 0 0 0;\n",
              "      width: 32px;\n",
              "    }\n",
              "\n",
              "    .colab-df-convert:hover {\n",
              "      background-color: #E2EBFA;\n",
              "      box-shadow: 0px 1px 2px rgba(60, 64, 67, 0.3), 0px 1px 3px 1px rgba(60, 64, 67, 0.15);\n",
              "      fill: #174EA6;\n",
              "    }\n",
              "\n",
              "    .colab-df-buttons div {\n",
              "      margin-bottom: 4px;\n",
              "    }\n",
              "\n",
              "    [theme=dark] .colab-df-convert {\n",
              "      background-color: #3B4455;\n",
              "      fill: #D2E3FC;\n",
              "    }\n",
              "\n",
              "    [theme=dark] .colab-df-convert:hover {\n",
              "      background-color: #434B5C;\n",
              "      box-shadow: 0px 1px 3px 1px rgba(0, 0, 0, 0.15);\n",
              "      filter: drop-shadow(0px 1px 2px rgba(0, 0, 0, 0.3));\n",
              "      fill: #FFFFFF;\n",
              "    }\n",
              "  </style>\n",
              "\n",
              "    <script>\n",
              "      const buttonEl =\n",
              "        document.querySelector('#df-0cbc15c5-56b7-4587-aefb-7cdfc6a83126 button.colab-df-convert');\n",
              "      buttonEl.style.display =\n",
              "        google.colab.kernel.accessAllowed ? 'block' : 'none';\n",
              "\n",
              "      async function convertToInteractive(key) {\n",
              "        const element = document.querySelector('#df-0cbc15c5-56b7-4587-aefb-7cdfc6a83126');\n",
              "        const dataTable =\n",
              "          await google.colab.kernel.invokeFunction('convertToInteractive',\n",
              "                                                    [key], {});\n",
              "        if (!dataTable) return;\n",
              "\n",
              "        const docLinkHtml = 'Like what you see? Visit the ' +\n",
              "          '<a target=\"_blank\" href=https://colab.research.google.com/notebooks/data_table.ipynb>data table notebook</a>'\n",
              "          + ' to learn more about interactive tables.';\n",
              "        element.innerHTML = '';\n",
              "        dataTable['output_type'] = 'display_data';\n",
              "        await google.colab.output.renderOutput(dataTable, element);\n",
              "        const docLink = document.createElement('div');\n",
              "        docLink.innerHTML = docLinkHtml;\n",
              "        element.appendChild(docLink);\n",
              "      }\n",
              "    </script>\n",
              "  </div>\n",
              "\n",
              "\n",
              "<div id=\"df-b14b3e87-286a-4ac0-9a1c-8d208f349c30\">\n",
              "  <button class=\"colab-df-quickchart\" onclick=\"quickchart('df-b14b3e87-286a-4ac0-9a1c-8d208f349c30')\"\n",
              "            title=\"Suggest charts.\"\n",
              "            style=\"display:none;\">\n",
              "\n",
              "<svg xmlns=\"http://www.w3.org/2000/svg\" height=\"24px\"viewBox=\"0 0 24 24\"\n",
              "     width=\"24px\">\n",
              "    <g>\n",
              "        <path d=\"M19 3H5c-1.1 0-2 .9-2 2v14c0 1.1.9 2 2 2h14c1.1 0 2-.9 2-2V5c0-1.1-.9-2-2-2zM9 17H7v-7h2v7zm4 0h-2V7h2v10zm4 0h-2v-4h2v4z\"/>\n",
              "    </g>\n",
              "</svg>\n",
              "  </button>\n",
              "\n",
              "<style>\n",
              "  .colab-df-quickchart {\n",
              "    background-color: #E8F0FE;\n",
              "    border: none;\n",
              "    border-radius: 50%;\n",
              "    cursor: pointer;\n",
              "    display: none;\n",
              "    fill: #1967D2;\n",
              "    height: 32px;\n",
              "    padding: 0 0 0 0;\n",
              "    width: 32px;\n",
              "  }\n",
              "\n",
              "  .colab-df-quickchart:hover {\n",
              "    background-color: #E2EBFA;\n",
              "    box-shadow: 0px 1px 2px rgba(60, 64, 67, 0.3), 0px 1px 3px 1px rgba(60, 64, 67, 0.15);\n",
              "    fill: #174EA6;\n",
              "  }\n",
              "\n",
              "  [theme=dark] .colab-df-quickchart {\n",
              "    background-color: #3B4455;\n",
              "    fill: #D2E3FC;\n",
              "  }\n",
              "\n",
              "  [theme=dark] .colab-df-quickchart:hover {\n",
              "    background-color: #434B5C;\n",
              "    box-shadow: 0px 1px 3px 1px rgba(0, 0, 0, 0.15);\n",
              "    filter: drop-shadow(0px 1px 2px rgba(0, 0, 0, 0.3));\n",
              "    fill: #FFFFFF;\n",
              "  }\n",
              "</style>\n",
              "\n",
              "  <script>\n",
              "    async function quickchart(key) {\n",
              "      const charts = await google.colab.kernel.invokeFunction(\n",
              "          'suggestCharts', [key], {});\n",
              "    }\n",
              "    (() => {\n",
              "      let quickchartButtonEl =\n",
              "        document.querySelector('#df-b14b3e87-286a-4ac0-9a1c-8d208f349c30 button');\n",
              "      quickchartButtonEl.style.display =\n",
              "        google.colab.kernel.accessAllowed ? 'block' : 'none';\n",
              "    })();\n",
              "  </script>\n",
              "</div>\n",
              "    </div>\n",
              "  </div>\n"
            ]
          },
          "metadata": {},
          "execution_count": 125
        }
      ],
      "source": [
        "import pandas as pd\n",
        "\n",
        "path = '/content/drive/MyDrive/student_data.csv'\n",
        "data= pd.read_csv(path)\n",
        "\n",
        "#displaying first 5 elements of the dataframe\n",
        "data.head(5)"
      ]
    },
    {
      "cell_type": "code",
      "execution_count": null,
      "metadata": {
        "colab": {
          "base_uri": "https://localhost:8080/"
        },
        "id": "YRBcqLlw7qHk",
        "outputId": "62e20d10-92bb-4a33-a580-1b2b7161df8d"
      },
      "outputs": [
        {
          "output_type": "stream",
          "name": "stdout",
          "text": [
            "Rows: 10000\n",
            "Columns : 6\n",
            "Data type of columns in the dataset: \n",
            " Hours Studied                        int64\n",
            "Previous Scores                      int64\n",
            "Extracurricular Activities          object\n",
            "Duration of Sleep                    int64\n",
            "Sample Question Papers Practiced     int64\n",
            "Performance                          int64\n",
            "dtype: object\n"
          ]
        }
      ],
      "source": [
        "#printing the dimension of the data\n",
        "print(f'Rows: {data.shape[0]}')\n",
        "print(f'Columns : {data.shape[1]}')\n",
        "\n",
        "print(\"Data type of columns in the dataset: \\n\",data.dtypes)"
      ]
    },
    {
      "cell_type": "markdown",
      "metadata": {
        "id": "acBGNGh50HQE"
      },
      "source": [
        "##Question 1.1:\n",
        "\n",
        "From this dataset we want to find the effect of different factors on the Performance of the student.\n",
        "\n",
        "So the **Dependent Variable** is : Performance\n",
        "\n",
        "and **Independent Variables** are:\n",
        "\n",
        "1. Hours Studied\n",
        "2. Previous Scores\n",
        "3. Extracurricular Activities\n",
        "4. Duration of Sleep\n",
        "5. Sample Question Papers Practiced"
      ]
    },
    {
      "cell_type": "markdown",
      "metadata": {
        "id": "ESYFOqlUyfe1"
      },
      "source": [
        "##data preprocessing:\n",
        "\n",
        "The ```Extracurricular Activities``` column of the dataframe contains values  ```Yes``` and  ```No```, which are replaced by 1 and 0 respectively so that we can plot them as histograms."
      ]
    },
    {
      "cell_type": "code",
      "execution_count": null,
      "metadata": {
        "colab": {
          "base_uri": "https://localhost:8080/",
          "height": 206
        },
        "id": "acrsfUuWycHy",
        "outputId": "0eea6b14-421c-4c0d-aa0d-6e57cab75c22"
      },
      "outputs": [
        {
          "output_type": "execute_result",
          "data": {
            "text/plain": [
              "   Hours Studied  Previous Scores  Extracurricular Activities  \\\n",
              "0              7               99                           1   \n",
              "1              4               82                           0   \n",
              "2              8               51                           1   \n",
              "3              5               52                           1   \n",
              "4              7               75                           0   \n",
              "\n",
              "   Duration of Sleep  Sample Question Papers Practiced  Performance  \n",
              "0                  9                                 1           91  \n",
              "1                  4                                 2           65  \n",
              "2                  7                                 2           45  \n",
              "3                  5                                 2           36  \n",
              "4                  8                                 5           66  "
            ],
            "text/html": [
              "\n",
              "  <div id=\"df-97acdb52-c2fa-4c2d-9f63-415c4107d4fc\" class=\"colab-df-container\">\n",
              "    <div>\n",
              "<style scoped>\n",
              "    .dataframe tbody tr th:only-of-type {\n",
              "        vertical-align: middle;\n",
              "    }\n",
              "\n",
              "    .dataframe tbody tr th {\n",
              "        vertical-align: top;\n",
              "    }\n",
              "\n",
              "    .dataframe thead th {\n",
              "        text-align: right;\n",
              "    }\n",
              "</style>\n",
              "<table border=\"1\" class=\"dataframe\">\n",
              "  <thead>\n",
              "    <tr style=\"text-align: right;\">\n",
              "      <th></th>\n",
              "      <th>Hours Studied</th>\n",
              "      <th>Previous Scores</th>\n",
              "      <th>Extracurricular Activities</th>\n",
              "      <th>Duration of Sleep</th>\n",
              "      <th>Sample Question Papers Practiced</th>\n",
              "      <th>Performance</th>\n",
              "    </tr>\n",
              "  </thead>\n",
              "  <tbody>\n",
              "    <tr>\n",
              "      <th>0</th>\n",
              "      <td>7</td>\n",
              "      <td>99</td>\n",
              "      <td>1</td>\n",
              "      <td>9</td>\n",
              "      <td>1</td>\n",
              "      <td>91</td>\n",
              "    </tr>\n",
              "    <tr>\n",
              "      <th>1</th>\n",
              "      <td>4</td>\n",
              "      <td>82</td>\n",
              "      <td>0</td>\n",
              "      <td>4</td>\n",
              "      <td>2</td>\n",
              "      <td>65</td>\n",
              "    </tr>\n",
              "    <tr>\n",
              "      <th>2</th>\n",
              "      <td>8</td>\n",
              "      <td>51</td>\n",
              "      <td>1</td>\n",
              "      <td>7</td>\n",
              "      <td>2</td>\n",
              "      <td>45</td>\n",
              "    </tr>\n",
              "    <tr>\n",
              "      <th>3</th>\n",
              "      <td>5</td>\n",
              "      <td>52</td>\n",
              "      <td>1</td>\n",
              "      <td>5</td>\n",
              "      <td>2</td>\n",
              "      <td>36</td>\n",
              "    </tr>\n",
              "    <tr>\n",
              "      <th>4</th>\n",
              "      <td>7</td>\n",
              "      <td>75</td>\n",
              "      <td>0</td>\n",
              "      <td>8</td>\n",
              "      <td>5</td>\n",
              "      <td>66</td>\n",
              "    </tr>\n",
              "  </tbody>\n",
              "</table>\n",
              "</div>\n",
              "    <div class=\"colab-df-buttons\">\n",
              "\n",
              "  <div class=\"colab-df-container\">\n",
              "    <button class=\"colab-df-convert\" onclick=\"convertToInteractive('df-97acdb52-c2fa-4c2d-9f63-415c4107d4fc')\"\n",
              "            title=\"Convert this dataframe to an interactive table.\"\n",
              "            style=\"display:none;\">\n",
              "\n",
              "  <svg xmlns=\"http://www.w3.org/2000/svg\" height=\"24px\" viewBox=\"0 -960 960 960\">\n",
              "    <path d=\"M120-120v-720h720v720H120Zm60-500h600v-160H180v160Zm220 220h160v-160H400v160Zm0 220h160v-160H400v160ZM180-400h160v-160H180v160Zm440 0h160v-160H620v160ZM180-180h160v-160H180v160Zm440 0h160v-160H620v160Z\"/>\n",
              "  </svg>\n",
              "    </button>\n",
              "\n",
              "  <style>\n",
              "    .colab-df-container {\n",
              "      display:flex;\n",
              "      gap: 12px;\n",
              "    }\n",
              "\n",
              "    .colab-df-convert {\n",
              "      background-color: #E8F0FE;\n",
              "      border: none;\n",
              "      border-radius: 50%;\n",
              "      cursor: pointer;\n",
              "      display: none;\n",
              "      fill: #1967D2;\n",
              "      height: 32px;\n",
              "      padding: 0 0 0 0;\n",
              "      width: 32px;\n",
              "    }\n",
              "\n",
              "    .colab-df-convert:hover {\n",
              "      background-color: #E2EBFA;\n",
              "      box-shadow: 0px 1px 2px rgba(60, 64, 67, 0.3), 0px 1px 3px 1px rgba(60, 64, 67, 0.15);\n",
              "      fill: #174EA6;\n",
              "    }\n",
              "\n",
              "    .colab-df-buttons div {\n",
              "      margin-bottom: 4px;\n",
              "    }\n",
              "\n",
              "    [theme=dark] .colab-df-convert {\n",
              "      background-color: #3B4455;\n",
              "      fill: #D2E3FC;\n",
              "    }\n",
              "\n",
              "    [theme=dark] .colab-df-convert:hover {\n",
              "      background-color: #434B5C;\n",
              "      box-shadow: 0px 1px 3px 1px rgba(0, 0, 0, 0.15);\n",
              "      filter: drop-shadow(0px 1px 2px rgba(0, 0, 0, 0.3));\n",
              "      fill: #FFFFFF;\n",
              "    }\n",
              "  </style>\n",
              "\n",
              "    <script>\n",
              "      const buttonEl =\n",
              "        document.querySelector('#df-97acdb52-c2fa-4c2d-9f63-415c4107d4fc button.colab-df-convert');\n",
              "      buttonEl.style.display =\n",
              "        google.colab.kernel.accessAllowed ? 'block' : 'none';\n",
              "\n",
              "      async function convertToInteractive(key) {\n",
              "        const element = document.querySelector('#df-97acdb52-c2fa-4c2d-9f63-415c4107d4fc');\n",
              "        const dataTable =\n",
              "          await google.colab.kernel.invokeFunction('convertToInteractive',\n",
              "                                                    [key], {});\n",
              "        if (!dataTable) return;\n",
              "\n",
              "        const docLinkHtml = 'Like what you see? Visit the ' +\n",
              "          '<a target=\"_blank\" href=https://colab.research.google.com/notebooks/data_table.ipynb>data table notebook</a>'\n",
              "          + ' to learn more about interactive tables.';\n",
              "        element.innerHTML = '';\n",
              "        dataTable['output_type'] = 'display_data';\n",
              "        await google.colab.output.renderOutput(dataTable, element);\n",
              "        const docLink = document.createElement('div');\n",
              "        docLink.innerHTML = docLinkHtml;\n",
              "        element.appendChild(docLink);\n",
              "      }\n",
              "    </script>\n",
              "  </div>\n",
              "\n",
              "\n",
              "<div id=\"df-64e13a55-9db7-411e-9293-9bfbb59090ea\">\n",
              "  <button class=\"colab-df-quickchart\" onclick=\"quickchart('df-64e13a55-9db7-411e-9293-9bfbb59090ea')\"\n",
              "            title=\"Suggest charts.\"\n",
              "            style=\"display:none;\">\n",
              "\n",
              "<svg xmlns=\"http://www.w3.org/2000/svg\" height=\"24px\"viewBox=\"0 0 24 24\"\n",
              "     width=\"24px\">\n",
              "    <g>\n",
              "        <path d=\"M19 3H5c-1.1 0-2 .9-2 2v14c0 1.1.9 2 2 2h14c1.1 0 2-.9 2-2V5c0-1.1-.9-2-2-2zM9 17H7v-7h2v7zm4 0h-2V7h2v10zm4 0h-2v-4h2v4z\"/>\n",
              "    </g>\n",
              "</svg>\n",
              "  </button>\n",
              "\n",
              "<style>\n",
              "  .colab-df-quickchart {\n",
              "    background-color: #E8F0FE;\n",
              "    border: none;\n",
              "    border-radius: 50%;\n",
              "    cursor: pointer;\n",
              "    display: none;\n",
              "    fill: #1967D2;\n",
              "    height: 32px;\n",
              "    padding: 0 0 0 0;\n",
              "    width: 32px;\n",
              "  }\n",
              "\n",
              "  .colab-df-quickchart:hover {\n",
              "    background-color: #E2EBFA;\n",
              "    box-shadow: 0px 1px 2px rgba(60, 64, 67, 0.3), 0px 1px 3px 1px rgba(60, 64, 67, 0.15);\n",
              "    fill: #174EA6;\n",
              "  }\n",
              "\n",
              "  [theme=dark] .colab-df-quickchart {\n",
              "    background-color: #3B4455;\n",
              "    fill: #D2E3FC;\n",
              "  }\n",
              "\n",
              "  [theme=dark] .colab-df-quickchart:hover {\n",
              "    background-color: #434B5C;\n",
              "    box-shadow: 0px 1px 3px 1px rgba(0, 0, 0, 0.15);\n",
              "    filter: drop-shadow(0px 1px 2px rgba(0, 0, 0, 0.3));\n",
              "    fill: #FFFFFF;\n",
              "  }\n",
              "</style>\n",
              "\n",
              "  <script>\n",
              "    async function quickchart(key) {\n",
              "      const charts = await google.colab.kernel.invokeFunction(\n",
              "          'suggestCharts', [key], {});\n",
              "    }\n",
              "    (() => {\n",
              "      let quickchartButtonEl =\n",
              "        document.querySelector('#df-64e13a55-9db7-411e-9293-9bfbb59090ea button');\n",
              "      quickchartButtonEl.style.display =\n",
              "        google.colab.kernel.accessAllowed ? 'block' : 'none';\n",
              "    })();\n",
              "  </script>\n",
              "</div>\n",
              "    </div>\n",
              "  </div>\n"
            ]
          },
          "metadata": {},
          "execution_count": 127
        }
      ],
      "source": [
        "#replacing 'Yes' with 1 and 'No' with 0 in the 'Extracurricular Activities' column\n",
        "data = data.replace({'Extracurricular Activities': {'Yes': 1, 'No': 0}})\n",
        "\n",
        "#check to see the changes\n",
        "data.head(5)"
      ]
    },
    {
      "cell_type": "code",
      "execution_count": null,
      "metadata": {
        "colab": {
          "base_uri": "https://localhost:8080/",
          "height": 448
        },
        "id": "h2_SFprKrLHf",
        "outputId": "bda87e90-42b3-480a-9fb7-1abdd8482355"
      },
      "outputs": [
        {
          "output_type": "execute_result",
          "data": {
            "text/plain": [
              "<Axes: ylabel='Frequency'>"
            ]
          },
          "metadata": {},
          "execution_count": 128
        },
        {
          "output_type": "display_data",
          "data": {
            "text/plain": [
              "<Figure size 640x480 with 1 Axes>"
            ],
            "image/png": "[encoded data removed]"
          },
          "metadata": {}
        }
      ],
      "source": [
        "data['Extracurricular Activities'].plot(kind = 'hist')\n",
        "#as we can see there are 5000 \"Yes\"/1 values and 5000 \"No\"/0 values"
      ]
    },
    {
      "cell_type": "code",
      "execution_count": null,
      "metadata": {
        "colab": {
          "base_uri": "https://localhost:8080/",
          "height": 448
        },
        "id": "531d3gjGwYYL",
        "outputId": "8a20558b-ce94-4824-e1aa-d89f3da4f226"
      },
      "outputs": [
        {
          "output_type": "execute_result",
          "data": {
            "text/plain": [
              "<Axes: ylabel='Frequency'>"
            ]
          },
          "metadata": {},
          "execution_count": 129
        },
        {
          "output_type": "display_data",
          "data": {
            "text/plain": [
              "<Figure size 640x480 with 1 Axes>"
            ],
            "image/png": "[encoded data removed]"
          },
          "metadata": {}
        }
      ],
      "source": [
        "data['Duration of Sleep'].plot(kind ='hist')\n",
        "#the distribution of duration of sleep is also more or less even"
      ]
    },
    {
      "cell_type": "code",
      "source": [
        "data['Previous Scores'].plot(kind = 'hist')"
      ],
      "metadata": {
        "colab": {
          "base_uri": "https://localhost:8080/",
          "height": 448
        },
        "id": "bBEph28ndscd",
        "outputId": "78076a5b-ee24-45a2-8f9e-2369a64f1525"
      },
      "execution_count": null,
      "outputs": [
        {
          "output_type": "execute_result",
          "data": {
            "text/plain": [
              "<Axes: ylabel='Frequency'>"
            ]
          },
          "metadata": {},
          "execution_count": 130
        },
        {
          "output_type": "display_data",
          "data": {
            "text/plain": [
              "<Figure size 640x480 with 1 Axes>"
            ],
            "image/png": "[encoded data removed]"
          },
          "metadata": {}
        }
      ]
    },
    {
      "cell_type": "markdown",
      "source": [
        "##Standardizing Larger Values:\n",
        "\n",
        "In the dataset we can see that the ```Previous Scores``` column had values that are quite large compared to other columns in the dataset. So to bring the data in similar range as other data points we have used standardization (z-score normalization)"
      ],
      "metadata": {
        "id": "aZe70J3rgxNd"
      }
    },
    {
      "cell_type": "code",
      "execution_count": null,
      "metadata": {
        "colab": {
          "base_uri": "https://localhost:8080/",
          "height": 224
        },
        "id": "UIenlUKIEPc3",
        "outputId": "9f82b068-c1bd-4dfc-f756-0957f34a9dc9"
      },
      "outputs": [
        {
          "output_type": "stream",
          "name": "stdout",
          "text": [
            "For the column 'Previous Scores': mean = 69.4457, standard deviation = 17.343152251047105\n"
          ]
        },
        {
          "output_type": "execute_result",
          "data": {
            "text/plain": [
              "   Hours Studied  Previous Scores  Extracurricular Activities  \\\n",
              "0              7         1.704090                           1   \n",
              "1              4         0.723876                           0   \n",
              "2              8        -1.063573                           1   \n",
              "3              5        -1.005913                           1   \n",
              "4              7         0.320259                           0   \n",
              "\n",
              "   Duration of Sleep  Sample Question Papers Practiced  Performance  \n",
              "0                  9                                 1           91  \n",
              "1                  4                                 2           65  \n",
              "2                  7                                 2           45  \n",
              "3                  5                                 2           36  \n",
              "4                  8                                 5           66  "
            ],
            "text/html": [
              "\n",
              "  <div id=\"df-de1d0be0-5df8-4946-a125-b074de15f82d\" class=\"colab-df-container\">\n",
              "    <div>\n",
              "<style scoped>\n",
              "    .dataframe tbody tr th:only-of-type {\n",
              "        vertical-align: middle;\n",
              "    }\n",
              "\n",
              "    .dataframe tbody tr th {\n",
              "        vertical-align: top;\n",
              "    }\n",
              "\n",
              "    .dataframe thead th {\n",
              "        text-align: right;\n",
              "    }\n",
              "</style>\n",
              "<table border=\"1\" class=\"dataframe\">\n",
              "  <thead>\n",
              "    <tr style=\"text-align: right;\">\n",
              "      <th></th>\n",
              "      <th>Hours Studied</th>\n",
              "      <th>Previous Scores</th>\n",
              "      <th>Extracurricular Activities</th>\n",
              "      <th>Duration of Sleep</th>\n",
              "      <th>Sample Question Papers Practiced</th>\n",
              "      <th>Performance</th>\n",
              "    </tr>\n",
              "  </thead>\n",
              "  <tbody>\n",
              "    <tr>\n",
              "      <th>0</th>\n",
              "      <td>7</td>\n",
              "      <td>1.704090</td>\n",
              "      <td>1</td>\n",
              "      <td>9</td>\n",
              "      <td>1</td>\n",
              "      <td>91</td>\n",
              "    </tr>\n",
              "    <tr>\n",
              "      <th>1</th>\n",
              "      <td>4</td>\n",
              "      <td>0.723876</td>\n",
              "      <td>0</td>\n",
              "      <td>4</td>\n",
              "      <td>2</td>\n",
              "      <td>65</td>\n",
              "    </tr>\n",
              "    <tr>\n",
              "      <th>2</th>\n",
              "      <td>8</td>\n",
              "      <td>-1.063573</td>\n",
              "      <td>1</td>\n",
              "      <td>7</td>\n",
              "      <td>2</td>\n",
              "      <td>45</td>\n",
              "    </tr>\n",
              "    <tr>\n",
              "      <th>3</th>\n",
              "      <td>5</td>\n",
              "      <td>-1.005913</td>\n",
              "      <td>1</td>\n",
              "      <td>5</td>\n",
              "      <td>2</td>\n",
              "      <td>36</td>\n",
              "    </tr>\n",
              "    <tr>\n",
              "      <th>4</th>\n",
              "      <td>7</td>\n",
              "      <td>0.320259</td>\n",
              "      <td>0</td>\n",
              "      <td>8</td>\n",
              "      <td>5</td>\n",
              "      <td>66</td>\n",
              "    </tr>\n",
              "  </tbody>\n",
              "</table>\n",
              "</div>\n",
              "    <div class=\"colab-df-buttons\">\n",
              "\n",
              "  <div class=\"colab-df-container\">\n",
              "    <button class=\"colab-df-convert\" onclick=\"convertToInteractive('df-de1d0be0-5df8-4946-a125-b074de15f82d')\"\n",
              "            title=\"Convert this dataframe to an interactive table.\"\n",
              "            style=\"display:none;\">\n",
              "\n",
              "  <svg xmlns=\"http://www.w3.org/2000/svg\" height=\"24px\" viewBox=\"0 -960 960 960\">\n",
              "    <path d=\"M120-120v-720h720v720H120Zm60-500h600v-160H180v160Zm220 220h160v-160H400v160Zm0 220h160v-160H400v160ZM180-400h160v-160H180v160Zm440 0h160v-160H620v160ZM180-180h160v-160H180v160Zm440 0h160v-160H620v160Z\"/>\n",
              "  </svg>\n",
              "    </button>\n",
              "\n",
              "  <style>\n",
              "    .colab-df-container {\n",
              "      display:flex;\n",
              "      gap: 12px;\n",
              "    }\n",
              "\n",
              "    .colab-df-convert {\n",
              "      background-color: #E8F0FE;\n",
              "      border: none;\n",
              "      border-radius: 50%;\n",
              "      cursor: pointer;\n",
              "      display: none;\n",
              "      fill: #1967D2;\n",
              "      height: 32px;\n",
              "      padding: 0 0 0 0;\n",
              "      width: 32px;\n",
              "    }\n",
              "\n",
              "    .colab-df-convert:hover {\n",
              "      background-color: #E2EBFA;\n",
              "      box-shadow: 0px 1px 2px rgba(60, 64, 67, 0.3), 0px 1px 3px 1px rgba(60, 64, 67, 0.15);\n",
              "      fill: #174EA6;\n",
              "    }\n",
              "\n",
              "    .colab-df-buttons div {\n",
              "      margin-bottom: 4px;\n",
              "    }\n",
              "\n",
              "    [theme=dark] .colab-df-convert {\n",
              "      background-color: #3B4455;\n",
              "      fill: #D2E3FC;\n",
              "    }\n",
              "\n",
              "    [theme=dark] .colab-df-convert:hover {\n",
              "      background-color: #434B5C;\n",
              "      box-shadow: 0px 1px 3px 1px rgba(0, 0, 0, 0.15);\n",
              "      filter: drop-shadow(0px 1px 2px rgba(0, 0, 0, 0.3));\n",
              "      fill: #FFFFFF;\n",
              "    }\n",
              "  </style>\n",
              "\n",
              "    <script>\n",
              "      const buttonEl =\n",
              "        document.querySelector('#df-de1d0be0-5df8-4946-a125-b074de15f82d button.colab-df-convert');\n",
              "      buttonEl.style.display =\n",
              "        google.colab.kernel.accessAllowed ? 'block' : 'none';\n",
              "\n",
              "      async function convertToInteractive(key) {\n",
              "        const element = document.querySelector('#df-de1d0be0-5df8-4946-a125-b074de15f82d');\n",
              "        const dataTable =\n",
              "          await google.colab.kernel.invokeFunction('convertToInteractive',\n",
              "                                                    [key], {});\n",
              "        if (!dataTable) return;\n",
              "\n",
              "        const docLinkHtml = 'Like what you see? Visit the ' +\n",
              "          '<a target=\"_blank\" href=https://colab.research.google.com/notebooks/data_table.ipynb>data table notebook</a>'\n",
              "          + ' to learn more about interactive tables.';\n",
              "        element.innerHTML = '';\n",
              "        dataTable['output_type'] = 'display_data';\n",
              "        await google.colab.output.renderOutput(dataTable, element);\n",
              "        const docLink = document.createElement('div');\n",
              "        docLink.innerHTML = docLinkHtml;\n",
              "        element.appendChild(docLink);\n",
              "      }\n",
              "    </script>\n",
              "  </div>\n",
              "\n",
              "\n",
              "<div id=\"df-205813b0-c0a2-4e70-ab77-c19c155157ec\">\n",
              "  <button class=\"colab-df-quickchart\" onclick=\"quickchart('df-205813b0-c0a2-4e70-ab77-c19c155157ec')\"\n",
              "            title=\"Suggest charts.\"\n",
              "            style=\"display:none;\">\n",
              "\n",
              "<svg xmlns=\"http://www.w3.org/2000/svg\" height=\"24px\"viewBox=\"0 0 24 24\"\n",
              "     width=\"24px\">\n",
              "    <g>\n",
              "        <path d=\"M19 3H5c-1.1 0-2 .9-2 2v14c0 1.1.9 2 2 2h14c1.1 0 2-.9 2-2V5c0-1.1-.9-2-2-2zM9 17H7v-7h2v7zm4 0h-2V7h2v10zm4 0h-2v-4h2v4z\"/>\n",
              "    </g>\n",
              "</svg>\n",
              "  </button>\n",
              "\n",
              "<style>\n",
              "  .colab-df-quickchart {\n",
              "    background-color: #E8F0FE;\n",
              "    border: none;\n",
              "    border-radius: 50%;\n",
              "    cursor: pointer;\n",
              "    display: none;\n",
              "    fill: #1967D2;\n",
              "    height: 32px;\n",
              "    padding: 0 0 0 0;\n",
              "    width: 32px;\n",
              "  }\n",
              "\n",
              "  .colab-df-quickchart:hover {\n",
              "    background-color: #E2EBFA;\n",
              "    box-shadow: 0px 1px 2px rgba(60, 64, 67, 0.3), 0px 1px 3px 1px rgba(60, 64, 67, 0.15);\n",
              "    fill: #174EA6;\n",
              "  }\n",
              "\n",
              "  [theme=dark] .colab-df-quickchart {\n",
              "    background-color: #3B4455;\n",
              "    fill: #D2E3FC;\n",
              "  }\n",
              "\n",
              "  [theme=dark] .colab-df-quickchart:hover {\n",
              "    background-color: #434B5C;\n",
              "    box-shadow: 0px 1px 3px 1px rgba(0, 0, 0, 0.15);\n",
              "    filter: drop-shadow(0px 1px 2px rgba(0, 0, 0, 0.3));\n",
              "    fill: #FFFFFF;\n",
              "  }\n",
              "</style>\n",
              "\n",
              "  <script>\n",
              "    async function quickchart(key) {\n",
              "      const charts = await google.colab.kernel.invokeFunction(\n",
              "          'suggestCharts', [key], {});\n",
              "    }\n",
              "    (() => {\n",
              "      let quickchartButtonEl =\n",
              "        document.querySelector('#df-205813b0-c0a2-4e70-ab77-c19c155157ec button');\n",
              "      quickchartButtonEl.style.display =\n",
              "        google.colab.kernel.accessAllowed ? 'block' : 'none';\n",
              "    })();\n",
              "  </script>\n",
              "</div>\n",
              "    </div>\n",
              "  </div>\n"
            ]
          },
          "metadata": {},
          "execution_count": 131
        }
      ],
      "source": [
        "mean_score = data['Previous Scores'].mean()\n",
        "std_score = data['Previous Scores'].std()\n",
        "\n",
        "#Storing the mean and S.D of the 'Previous Score' column for future use:\n",
        "print(f\"For the column 'Previous Scores': mean = {mean_score}, standard deviation = {std_score}\")\n",
        "\n",
        "data['Previous Scores'] = (data['Previous Scores'] - data['Previous Scores'].mean()) / data['Previous Scores'].std()\n",
        "\n",
        "data.head(5)"
      ]
    },
    {
      "cell_type": "markdown",
      "metadata": {
        "id": "WrC2r_GM58_p"
      },
      "source": [
        "##Question 1.3: Splitting the Data\n",
        "\n",
        "The question asked to split the entire dataset into train data (80%) and test data(20%). We have used ```iloc``` to turn the first 8000 entries into train data and the last 2000 entries into test data."
      ]
    },
    {
      "cell_type": "code",
      "execution_count": null,
      "metadata": {
        "colab": {
          "base_uri": "https://localhost:8080/"
        },
        "id": "Fb3Qh54J1y2B",
        "outputId": "e74a7ede-98b1-4760-8173-941fa6851a77"
      },
      "outputs": [
        {
          "output_type": "execute_result",
          "data": {
            "text/plain": [
              "(8000, 6)"
            ]
          },
          "metadata": {},
          "execution_count": 132
        }
      ],
      "source": [
        "train_data = data.iloc[:8000,:]\n",
        "train_data.shape"
      ]
    },
    {
      "cell_type": "code",
      "execution_count": null,
      "metadata": {
        "colab": {
          "base_uri": "https://localhost:8080/"
        },
        "id": "-GWUXSZZ8rRR",
        "outputId": "566b19cc-683e-4c95-cecf-9ef48faeecc0"
      },
      "outputs": [
        {
          "output_type": "execute_result",
          "data": {
            "text/plain": [
              "(2000, 6)"
            ]
          },
          "metadata": {},
          "execution_count": 133
        }
      ],
      "source": [
        "test_data = data.iloc[8000:,:]\n",
        "test_data.shape"
      ]
    },
    {
      "cell_type": "markdown",
      "source": [
        "Now we have used the ```to_numpy()``` method to convert the dataset into a numpy array for calculation purpose"
      ],
      "metadata": {
        "id": "Sh6UcILTRiwb"
      }
    },
    {
      "cell_type": "code",
      "execution_count": null,
      "metadata": {
        "colab": {
          "base_uri": "https://localhost:8080/"
        },
        "id": "vsVO_22W9X0_",
        "outputId": "41cfc36a-68bb-46c2-ed0d-16725cdbc35d"
      },
      "outputs": [
        {
          "output_type": "stream",
          "name": "stdout",
          "text": [
            "train_data in numpy:\n",
            " [[ 7.          1.70409044  1.          9.          1.         91.        ]\n",
            " [ 4.          0.72387648  0.          4.          2.         65.        ]\n",
            " [ 8.         -1.06357251  1.          7.          2.         45.        ]\n",
            " ...\n",
            " [ 5.          0.95451506  1.          8.          8.         69.        ]\n",
            " [ 7.         -0.94825322  1.          6.          3.         47.        ]\n",
            " [ 3.          0.72387648  0.          8.          3.         64.        ]]\n"
          ]
        }
      ],
      "source": [
        "import numpy as np\n",
        "\n",
        "train_data = train_data.to_numpy()\n",
        "test_data = test_data.to_numpy()\n",
        "\n",
        "print(\"train_data in numpy:\\n\", train_data)"
      ]
    },
    {
      "cell_type": "code",
      "execution_count": null,
      "metadata": {
        "colab": {
          "base_uri": "https://localhost:8080/"
        },
        "id": "xqSbNGO59LcF",
        "outputId": "95334fa0-fe63-41bb-da2c-db67e74f0782"
      },
      "outputs": [
        {
          "output_type": "stream",
          "name": "stdout",
          "text": [
            "initial dimension of y_train_data :  (8000, 1)\n",
            "X shape :  (8000, 5)\n",
            "y shape :  (8000,)\n"
          ]
        }
      ],
      "source": [
        "#slicing the numpy arrays to get the X and y for the train_data and test_data\n",
        "\n",
        "X_train_data = train_data[:,:5]\n",
        "y_train_data = train_data[:,5:]\n",
        "\n",
        "print('initial dimension of y_train_data : ', y_train_data.shape)\n",
        "#we needed to flatten the y_train_data as the dimensions were creating problem while running the code\n",
        "y_train_data = y_train_data.flatten().T\n",
        "\n",
        "\n",
        "print(\"X_train_data shape : \",X_train_data.shape)\n",
        "print(\"y_train_data shape : \",y_train_data.shape)"
      ]
    },
    {
      "cell_type": "code",
      "execution_count": null,
      "metadata": {
        "colab": {
          "base_uri": "https://localhost:8080/"
        },
        "id": "eiPNtfV3Ac6i",
        "outputId": "5252c419-a1e4-4842-e173-c6089eac0bbe"
      },
      "outputs": [
        {
          "output_type": "stream",
          "name": "stdout",
          "text": [
            "X shape :  (2000, 5)\n",
            "y shape :  (2000,)\n"
          ]
        }
      ],
      "source": [
        "X_test_data = test_data[:,:5]\n",
        "y_test_data = test_data[:,5:]\n",
        "\n",
        "#same method applied for the y_test_data also\n",
        "y_test_data = y_test_data.flatten().T\n",
        "\n",
        "print(\"X_test_data shape : \",X_test_data.shape)\n",
        "print(\"y_test_data shape : \",y_test_data.shape)"
      ]
    },
    {
      "cell_type": "markdown",
      "source": [
        "##Question 1.4: Implementing the linear regression function\n",
        "\n",
        "We have implemented linear regression in the ```linearRegression``` function which takes two parameters, ```X_train``` and ```y_train``` as input(i.e. the training dataset)."
      ],
      "metadata": {
        "id": "cZR5wdaFSfLr"
      }
    },
    {
      "cell_type": "code",
      "execution_count": null,
      "metadata": {
        "id": "plBaK1EmAmJi"
      },
      "outputs": [],
      "source": [
        "def linearRegression(X_train, y_train):\n",
        "  epochs = int(input(\"Enter the number of epochs : \"))\n",
        "  learning_rate = float(input(\"Enter the learning rate(0 < learning_rate < 1) : \"))\n",
        "  error_per_epoch = np.zeros(epochs)\n",
        "\n",
        "  sample_size, features = X_train.shape\n",
        "\n",
        "  weights = np.zeros(features)\n",
        "  bias = 0\n",
        "\n",
        "  for i in range (epochs):\n",
        "    y_predicted = np.dot(X_train, weights) + bias\n",
        "\n",
        "    mse_error = np.sum((y_predicted - y_train)**2)/(2*sample_size)\n",
        "\n",
        "    error_per_epoch[i] = mse_error\n",
        "\n",
        "    dj_dw = (1/sample_size)*np.dot((y_predicted - y_train), X_train)\n",
        "    dj_db = (1/sample_size)*np.sum(y_predicted - y_train)\n",
        "\n",
        "    weights = weights - learning_rate*dj_dw\n",
        "    bias = bias - learning_rate*dj_db\n",
        "\n",
        "  print(f\"Final weights: {weights}\")\n",
        "  print(f\"Final bias: {bias}\")\n",
        "\n",
        "  return weights, bias, error_per_epoch"
      ]
    },
    {
      "cell_type": "markdown",
      "source": [
        "For the current demonstration we have taken epoch = 5000 and learning rate = 0.02"
      ],
      "metadata": {
        "id": "q16VNyfkVP2T"
      }
    },
    {
      "cell_type": "code",
      "source": [
        "#retriving the weights, bias and error_per_epoch array from the function for future use\n",
        "weights, bias, error_per_epoch = linearRegression(X_train_data, y_train_data)"
      ],
      "metadata": {
        "colab": {
          "base_uri": "https://localhost:8080/"
        },
        "id": "lCOUWjvKVC1W",
        "outputId": "0197bc21-d235-4944-ade8-dc6bde086d2c"
      },
      "execution_count": null,
      "outputs": [
        {
          "output_type": "stream",
          "name": "stdout",
          "text": [
            "Enter the number of epochs : 5000\n",
            "Enter the learning rate(0 < learning_rate < 1) : .02\n",
            "Final weights: [ 2.86702974 17.65447502  0.68318252  0.52318604  0.20289693]\n",
            "Final bias: 36.19034308423426\n"
          ]
        }
      ]
    },
    {
      "cell_type": "markdown",
      "source": [
        "##Question 1.6: Getting prediction for new data.\n",
        "\n",
        "In this part, we have implemented the predict funtion which returns\n",
        "\n",
        "```X_test . weights + bias``` which is the value predicted by the model.\n",
        "\n",
        "In the second part we take student data as input and then predict his/her score according to the model.\n",
        "\n",
        "**FOR THE DATA OF THE GIVEN STUDENT THE SCORE WAS:**\n",
        "\n",
        "**87.834**"
      ],
      "metadata": {
        "id": "LHls1MrsTZ__"
      }
    },
    {
      "cell_type": "code",
      "source": [
        "def predict(X_test, weights, bias):\n",
        "  return np.dot(X_test, weights) + bias"
      ],
      "metadata": {
        "id": "fA8-qjPM5LtQ"
      },
      "execution_count": null,
      "outputs": []
    },
    {
      "cell_type": "code",
      "source": [
        "#evaluation of student's performance:\n",
        "\n",
        "hours_of_study = int(input(\"Enter hours studied: \"))\n",
        "\n",
        "previous_score = int(input(\"Previous Score: \"))\n",
        "previous_score = (previous_score - mean_score)/std_score\n",
        "\n",
        "extracurricular_activities = input(\"Extracurricular Activities(Yes/No): \")\n",
        "if (extracurricular_activities.lower() == 'yes'):\n",
        "  extracurricular_activities = 1\n",
        "else:\n",
        "  extracurricular_activities = 0\n",
        "\n",
        "duration_of_sleep = int(input(\"Duration of sleep: \"))\n",
        "\n",
        "sample_question_papers_practiced = int(input(\"Sample question papers practiced: \"))\n",
        "\n",
        "student_data = np.array([hours_of_study, previous_score, extracurricular_activities, duration_of_sleep, sample_question_papers_practiced])\n"
      ],
      "metadata": {
        "colab": {
          "base_uri": "https://localhost:8080/"
        },
        "id": "mfC7AEGPz-2m",
        "outputId": "bdcde5a4-94ad-4e7f-cf8e-91cf5fb0c044"
      },
      "execution_count": null,
      "outputs": [
        {
          "name": "stdout",
          "output_type": "stream",
          "text": [
            "Enter hours studied: 7\n",
            "Previous Score: 95\n",
            "Extracurricular Activities(Yes/No): yes\n",
            "Duration of sleep: 7\n",
            "Sample question papers practiced: 6\n"
          ]
        }
      ]
    },
    {
      "cell_type": "code",
      "source": [
        "print(f\"Predicted Performance : {predict(student_data, weights, bias)}\")"
      ],
      "metadata": {
        "colab": {
          "base_uri": "https://localhost:8080/"
        },
        "id": "DbpmJihD5YTb",
        "outputId": "e87e51c0-f45d-4320-fc5e-a07a5e9cf0af"
      },
      "execution_count": null,
      "outputs": [
        {
          "output_type": "stream",
          "name": "stdout",
          "text": [
            "Enter the number of epochs : 5000\n",
            "Enter the learning rate(0 < learning_rate < 1) : .02\n",
            "Final weights: [ 2.86702974 17.65447502  0.68318252  0.52318604  0.20289693]\n",
            "Final bias: 36.19034308423426\n",
            "Predicted Performance : 87.83543676032423\n"
          ]
        }
      ]
    },
    {
      "cell_type": "markdown",
      "source": [
        "##Question 1.7: Evaluation of performance of the model\n",
        "\n",
        "Here we have taken 2 functions, one for calculating the mean square error(```evaluate_mse```) and other for the R2 score(```evaluate_r2_score```)"
      ],
      "metadata": {
        "id": "_HyTnem1UBQR"
      }
    },
    {
      "cell_type": "code",
      "execution_count": null,
      "metadata": {
        "id": "eBFDALxww-0U"
      },
      "outputs": [],
      "source": [
        "\n",
        "def evaluate_mse(X_test, y_test, weights, bias):\n",
        "  sample_size = X_test.shape[0]\n",
        "  y_predicted = predict(X_test, weights, bias)\n",
        "  mse = np.sum((y_predicted - y_test)**2)/(sample_size)\n",
        "\n",
        "  return mse\n",
        "\n",
        "def evaluate_r2_score(X_test, y_test, weights, bias):\n",
        "  y_predicted = predict(X_test, weights, bias)\n",
        "  ss_res = np.sum((y_test - y_predicted)**2)\n",
        "  ss_total = np.sum((y_test - np.mean(y_test))**2)\n",
        "\n",
        "  return 1 - (ss_res/ss_total)"
      ]
    },
    {
      "cell_type": "markdown",
      "source": [
        "##Question 1.5: Plotting the Loss vs epoch graph\n",
        "\n",
        "Here we have plotted the loss vs epoch graph and also derived the performance of our model based on two metrices (MSE and R2 score)"
      ],
      "metadata": {
        "id": "wN9dmBkaUdBf"
      }
    },
    {
      "cell_type": "code",
      "execution_count": null,
      "metadata": {
        "colab": {
          "base_uri": "https://localhost:8080/",
          "height": 486
        },
        "id": "swwU2Cd2zykS",
        "outputId": "73c4f0fc-0fce-49e2-9f67-29600d867db3"
      },
      "outputs": [
        {
          "output_type": "display_data",
          "data": {
            "text/plain": [
              "<Figure size 640x480 with 1 Axes>"
            ],
            "image/png": "[encoded data removed]"
          },
          "metadata": {}
        },
        {
          "output_type": "stream",
          "name": "stdout",
          "text": [
            "mean square error loss for test data: 4.250041413910027\n",
            "R2 score for test data: 0.9883620865658942\n"
          ]
        }
      ],
      "source": [
        "import matplotlib.pyplot as plt\n",
        "\n",
        "plt.xlabel(\"Epochs\")\n",
        "plt.ylabel(\"MSE Loss\")\n",
        "plt.plot(error_per_epoch)\n",
        "plt.show()\n",
        "\n",
        "print(f\"mean square error loss for test data: {evaluate_mse(X_test_data, y_test_data, weights, bias)}\")\n",
        "print(f\"R2 score for test data: {evaluate_r2_score(X_test_data, y_test_data, weights, bias)}\")"
      ]
    }
  ],
  "metadata": {
    "colab": {
      "provenance": []
    },
    "kernelspec": {
      "display_name": "Python 3",
      "name": "python3"
    },
    "language_info": {
      "name": "python"
    }
  },
  "nbformat": 4,
  "nbformat_minor": 0
}